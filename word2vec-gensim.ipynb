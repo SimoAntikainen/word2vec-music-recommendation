{
 "cells": [
  {
   "cell_type": "code",
   "execution_count": 1,
   "metadata": {},
   "outputs": [],
   "source": [
    "import gensim \n",
    "import pandas as pd\n",
    "import logging\n",
    "import math\n",
    "import numpy as np\n",
    "from sklearn.manifold import TSNE\n",
    "import matplotlib.pyplot as plt\n",
    "import re\n",
    "import random"
   ]
  },
  {
   "cell_type": "markdown",
   "metadata": {},
   "source": [
    "## Preprocessing and feature engineering"
   ]
  },
  {
   "cell_type": "code",
   "execution_count": 79,
   "metadata": {},
   "outputs": [],
   "source": [
    "songs = pd.read_csv('spotify_dataset.csv', header=None, skiprows=[0], usecols=[0,1,2,3]).dropna()\n",
    "songs.columns = ['user_id', 'artistname','trackname','playlistname']"
   ]
  },
  {
   "cell_type": "code",
   "execution_count": 80,
   "metadata": {},
   "outputs": [
    {
     "data": {
      "text/plain": [
       "(12867139, 4)"
      ]
     },
     "metadata": {},
     "output_type": "display_data"
    },
    {
     "data": {
      "text/plain": [
       "2009210"
      ]
     },
     "metadata": {},
     "output_type": "display_data"
    }
   ],
   "source": [
    "display(songs.shape)\n",
    "display(songs['trackname'].nunique())"
   ]
  },
  {
   "cell_type": "code",
   "execution_count": 81,
   "metadata": {
    "scrolled": true
   },
   "outputs": [
    {
     "name": "stdout",
     "output_type": "stream",
     "text": [
      "896                                         Sorrow - Live\n",
      "1057                                     Comfortably Numb\n",
      "1058                              Comfortably Numb - Live\n",
      "1098                     Echoes - 2011 Remastered Version\n",
      "1099                    Eclipse - 2011 Remastered Version\n",
      "1186                                       Hey You - Live\n",
      "1187                                    High Hopes - Live\n",
      "1414                    Shine On You Crazy Diamond - Live\n",
      "1554     Welcome To The Machine - 2011 Remastered Version\n",
      "1568                 Wish You Were Here - 2011 - Remaster\n",
      "4193               Brain Damage - 2011 Remastered Version\n",
      "5123               Echoes - Edit; 2001 Remastered Version\n",
      "5353                   Fearless - 2011 Remastered Version\n",
      "7647                      Money - 2011 Remastered Version\n",
      "10929                                  Wish You Were Here\n",
      "10930                Wish You Were Here - 2011 - Remaster\n",
      "11229              Brain Damage - 2011 Remastered Version\n",
      "12235                     Money - 2011 Remastered Version\n",
      "12809                     Money - 2011 Remastered Version\n",
      "28819            One Of The Few - 2011 Remastered Version\n"
     ]
    }
   ],
   "source": [
    "print(songs[songs['artistname'] == 'Pink Floyd'].trackname[0:20].to_string())"
   ]
  },
  {
   "cell_type": "code",
   "execution_count": 82,
   "metadata": {},
   "outputs": [],
   "source": [
    "#Every artist can have only one version of the song, reduces unique songs from 2009210 to 1367548\n",
    "\n",
    "def preprocess_track(trackname):\n",
    "\n",
    "    trackname = trackname.lower()\n",
    "    \n",
    "    # everything between [], () is often live remaster etc.\n",
    "    trackname = re.sub(\"[\\(\\[].*?[\\)\\]]\", \"\", trackname)\n",
    "        \n",
    "    #Remove everything after '-' as they most likely are live, remastered, year etc identifiers\n",
    "    trackname = trackname.split('-', 1)[0]\n",
    "    #Remove empty spaces around the trackname\n",
    "    trackname = trackname.strip()     \n",
    "       \n",
    "    return trackname"
   ]
  },
  {
   "cell_type": "code",
   "execution_count": 83,
   "metadata": {},
   "outputs": [],
   "source": [
    "songs['trackname'] = songs['trackname'].copy().apply(preprocess_track)\n",
    "#Alternatively only song names to lowercase\n",
    "#songs['trackname'] = songs['trackname'].map(lambda x: x.lower())\n",
    "songs['artistname'] = songs['artistname'].map(lambda x: x.lower())"
   ]
  },
  {
   "cell_type": "code",
   "execution_count": 84,
   "metadata": {},
   "outputs": [
    {
     "data": {
      "text/plain": [
       "1367548"
      ]
     },
     "execution_count": 84,
     "metadata": {},
     "output_type": "execute_result"
    }
   ],
   "source": [
    "#uniques after preprocessing\n",
    "songs['trackname'].nunique()"
   ]
  },
  {
   "cell_type": "code",
   "execution_count": 85,
   "metadata": {
    "scrolled": true
   },
   "outputs": [
    {
     "name": "stdout",
     "output_type": "stream",
     "text": [
      "896                          sorrow\n",
      "1057               comfortably numb\n",
      "1058               comfortably numb\n",
      "1098                         echoes\n",
      "1099                        eclipse\n",
      "1186                        hey you\n",
      "1187                     high hopes\n",
      "1414     shine on you crazy diamond\n",
      "1554         welcome to the machine\n",
      "1568             wish you were here\n",
      "4193                   brain damage\n",
      "5123                         echoes\n",
      "5353                       fearless\n",
      "7647                          money\n",
      "10929            wish you were here\n",
      "10930            wish you were here\n",
      "11229                  brain damage\n",
      "12235                         money\n",
      "12809                         money\n",
      "28819                one of the few\n"
     ]
    }
   ],
   "source": [
    "print(songs[songs['artistname'] == 'pink floyd'].trackname[0:20].to_string())"
   ]
  },
  {
   "cell_type": "code",
   "execution_count": 87,
   "metadata": {},
   "outputs": [],
   "source": [
    "#Make two new features\n",
    "#trackartist: identifty the spesific track of the artist to differ between same named songs from different artist (meta2prodvec)\n",
    "songs[\"trackartist\"] = songs[\"artistname\"] + \" - \" +songs[\"trackname\"]\n",
    "#userplaylist to differ between playlists named the same\n",
    "songs[\"userplaylist\"] = songs[\"user_id\"] + \" - \" +songs[\"playlistname\"]\n"
   ]
  },
  {
   "cell_type": "code",
   "execution_count": 86,
   "metadata": {},
   "outputs": [
    {
     "data": {
      "text/html": [
       "<div>\n",
       "<style>\n",
       "    .dataframe thead tr:only-child th {\n",
       "        text-align: right;\n",
       "    }\n",
       "\n",
       "    .dataframe thead th {\n",
       "        text-align: left;\n",
       "    }\n",
       "\n",
       "    .dataframe tbody tr th {\n",
       "        vertical-align: top;\n",
       "    }\n",
       "</style>\n",
       "<table border=\"1\" class=\"dataframe\">\n",
       "  <thead>\n",
       "    <tr style=\"text-align: right;\">\n",
       "      <th></th>\n",
       "      <th>user_id</th>\n",
       "      <th>artistname</th>\n",
       "      <th>trackname</th>\n",
       "      <th>playlistname</th>\n",
       "    </tr>\n",
       "  </thead>\n",
       "  <tbody>\n",
       "    <tr>\n",
       "      <th>0</th>\n",
       "      <td>9cc0cfd4d7d7885102480dd99e7a90d6</td>\n",
       "      <td>elvis costello</td>\n",
       "      <td>red shoes</td>\n",
       "      <td>HARD ROCK 2010</td>\n",
       "    </tr>\n",
       "    <tr>\n",
       "      <th>1</th>\n",
       "      <td>9cc0cfd4d7d7885102480dd99e7a90d6</td>\n",
       "      <td>elvis costello &amp; the attractions</td>\n",
       "      <td>peace, love and understanding</td>\n",
       "      <td>HARD ROCK 2010</td>\n",
       "    </tr>\n",
       "    <tr>\n",
       "      <th>2</th>\n",
       "      <td>9cc0cfd4d7d7885102480dd99e7a90d6</td>\n",
       "      <td>tiffany page</td>\n",
       "      <td>7 years too late</td>\n",
       "      <td>HARD ROCK 2010</td>\n",
       "    </tr>\n",
       "    <tr>\n",
       "      <th>3</th>\n",
       "      <td>9cc0cfd4d7d7885102480dd99e7a90d6</td>\n",
       "      <td>elvis costello &amp; the attractions</td>\n",
       "      <td>accidents will happen</td>\n",
       "      <td>HARD ROCK 2010</td>\n",
       "    </tr>\n",
       "    <tr>\n",
       "      <th>4</th>\n",
       "      <td>9cc0cfd4d7d7885102480dd99e7a90d6</td>\n",
       "      <td>elvis costello</td>\n",
       "      <td>alison</td>\n",
       "      <td>HARD ROCK 2010</td>\n",
       "    </tr>\n",
       "  </tbody>\n",
       "</table>\n",
       "</div>"
      ],
      "text/plain": [
       "                            user_id                        artistname  \\\n",
       "0  9cc0cfd4d7d7885102480dd99e7a90d6                    elvis costello   \n",
       "1  9cc0cfd4d7d7885102480dd99e7a90d6  elvis costello & the attractions   \n",
       "2  9cc0cfd4d7d7885102480dd99e7a90d6                      tiffany page   \n",
       "3  9cc0cfd4d7d7885102480dd99e7a90d6  elvis costello & the attractions   \n",
       "4  9cc0cfd4d7d7885102480dd99e7a90d6                    elvis costello   \n",
       "\n",
       "                       trackname    playlistname  \n",
       "0                      red shoes  HARD ROCK 2010  \n",
       "1  peace, love and understanding  HARD ROCK 2010  \n",
       "2               7 years too late  HARD ROCK 2010  \n",
       "3          accidents will happen  HARD ROCK 2010  \n",
       "4                         alison  HARD ROCK 2010  "
      ]
     },
     "execution_count": 86,
     "metadata": {},
     "output_type": "execute_result"
    }
   ],
   "source": [
    "songs.head()"
   ]
  },
  {
   "cell_type": "code",
   "execution_count": 88,
   "metadata": {},
   "outputs": [
    {
     "data": {
      "text/plain": [
       "2342855"
      ]
     },
     "execution_count": 88,
     "metadata": {},
     "output_type": "execute_result"
    }
   ],
   "source": [
    "#large increase in unique songs when artist names added to song name\n",
    "songs['trackartist'].nunique()"
   ]
  },
  {
   "cell_type": "code",
   "execution_count": 89,
   "metadata": {},
   "outputs": [],
   "source": [
    "frequency_of_songs = songs.groupby('trackartist').count()['user_id']\n",
    "sorted_frequencies = frequency_of_songs.sort_values(ascending=False)"
   ]
  },
  {
   "cell_type": "code",
   "execution_count": 90,
   "metadata": {},
   "outputs": [
    {
     "data": {
      "image/png": "[encoded data removed]",
      "text/plain": [
       "<matplotlib.figure.Figure at 0x1fe48d95a90>"
      ]
     },
     "metadata": {
      "needs_background": "light"
     },
     "output_type": "display_data"
    }
   ],
   "source": [
    "plt.plot(np.arange(1,2342856),sorted_frequencies[0:2342855])\n",
    "plt.ylabel('frequency')\n",
    "plt.xlabel('rank')\n",
    "plt.xscale('log')\n",
    "\n",
    "plt.show()"
   ]
  },
  {
   "cell_type": "code",
   "execution_count": 91,
   "metadata": {},
   "outputs": [
    {
     "data": {
      "text/plain": [
       "9837229"
      ]
     },
     "metadata": {},
     "output_type": "display_data"
    },
    {
     "data": {
      "text/plain": [
       "5"
      ]
     },
     "metadata": {},
     "output_type": "display_data"
    }
   ],
   "source": [
    "#min count hyperparameter 5 chosen to take into the model most of the songs \n",
    "display(np.sum(sorted_frequencies[0:400000]))\n",
    "display(sorted_frequencies[400000])"
   ]
  },
  {
   "cell_type": "code",
   "execution_count": 92,
   "metadata": {},
   "outputs": [],
   "source": [
    "#Remove playlist with less than 10 tracks and combine into lists\n",
    "playlists = songs.groupby(['userplaylist']).filter(lambda x: len(x) >= 10)\n",
    "playlists = playlists.groupby(['userplaylist']).agg({'trackartist':lambda x: list(x)})"
   ]
  },
  {
   "cell_type": "code",
   "execution_count": 93,
   "metadata": {},
   "outputs": [
    {
     "data": {
      "text/html": [
       "<div>\n",
       "<style>\n",
       "    .dataframe thead tr:only-child th {\n",
       "        text-align: right;\n",
       "    }\n",
       "\n",
       "    .dataframe thead th {\n",
       "        text-align: left;\n",
       "    }\n",
       "\n",
       "    .dataframe tbody tr th {\n",
       "        vertical-align: top;\n",
       "    }\n",
       "</style>\n",
       "<table border=\"1\" class=\"dataframe\">\n",
       "  <thead>\n",
       "    <tr style=\"text-align: right;\">\n",
       "      <th></th>\n",
       "      <th>trackartist</th>\n",
       "    </tr>\n",
       "    <tr>\n",
       "      <th>userplaylist</th>\n",
       "      <th></th>\n",
       "    </tr>\n",
       "  </thead>\n",
       "  <tbody>\n",
       "    <tr>\n",
       "      <th>00055176fea33f6e027cd3302289378b - favs</th>\n",
       "      <td>[jannik brunke - 18, green day - 21 guns, shaw...</td>\n",
       "    </tr>\n",
       "    <tr>\n",
       "      <th>0007f3dd09c91198371454c608d47f22 - Fav songs</th>\n",
       "      <td>[bryan adams - i do it for you, colourshop - 2...</td>\n",
       "    </tr>\n",
       "    <tr>\n",
       "      <th>000b0f32b5739f052b9d40fcc5c41079 - Contacta</th>\n",
       "      <td>[veronica maggio - bas gillar hörn, titiyo - b...</td>\n",
       "    </tr>\n",
       "    <tr>\n",
       "      <th>000b0f32b5739f052b9d40fcc5c41079 - Gospel</th>\n",
       "      <td>[the worship crew - brighter day, oslo gospel ...</td>\n",
       "    </tr>\n",
       "    <tr>\n",
       "      <th>000b0f32b5739f052b9d40fcc5c41079 - Starred</th>\n",
       "      <td>[java gospel - a blessed christmas eve, java g...</td>\n",
       "    </tr>\n",
       "  </tbody>\n",
       "</table>\n",
       "</div>"
      ],
      "text/plain": [
       "                                                                                    trackartist\n",
       "userplaylist                                                                                   \n",
       "00055176fea33f6e027cd3302289378b - favs       [jannik brunke - 18, green day - 21 guns, shaw...\n",
       "0007f3dd09c91198371454c608d47f22 - Fav songs  [bryan adams - i do it for you, colourshop - 2...\n",
       "000b0f32b5739f052b9d40fcc5c41079 - Contacta   [veronica maggio - bas gillar hörn, titiyo - b...\n",
       "000b0f32b5739f052b9d40fcc5c41079 - Gospel     [the worship crew - brighter day, oslo gospel ...\n",
       "000b0f32b5739f052b9d40fcc5c41079 - Starred    [java gospel - a blessed christmas eve, java g..."
      ]
     },
     "metadata": {},
     "output_type": "display_data"
    },
    {
     "data": {
      "text/plain": [
       "(188437, 1)"
      ]
     },
     "metadata": {},
     "output_type": "display_data"
    }
   ],
   "source": [
    "display(playlists.head())\n",
    "display(playlists.shape)"
   ]
  },
  {
   "cell_type": "code",
   "execution_count": 95,
   "metadata": {},
   "outputs": [],
   "source": [
    "def playlist_format(playlists):\n",
    "    documents = []\n",
    "    for index, row in playlists.iterrows():\n",
    "        preprocessed_songs = row['trackartist']\n",
    "        documents.append(preprocessed_songs)\n",
    "\n",
    "    return documents    "
   ]
  },
  {
   "cell_type": "code",
   "execution_count": 98,
   "metadata": {
    "scrolled": true
   },
   "outputs": [
    {
     "name": "stdout",
     "output_type": "stream",
     "text": [
      "188437\n"
     ]
    }
   ],
   "source": [
    "playlist_formatted = playlist_format(playlists)\n",
    "playlist_length = len(playlist_formatted)\n",
    "print(playlist_length)"
   ]
  },
  {
   "cell_type": "markdown",
   "metadata": {},
   "source": [
    "### UCI online retail data set"
   ]
  },
  {
   "cell_type": "code",
   "execution_count": 2,
   "metadata": {},
   "outputs": [],
   "source": [
    "#http://archive.ics.uci.edu/ml/datasets/Online+Retail"
   ]
  },
  {
   "cell_type": "code",
   "execution_count": 3,
   "metadata": {},
   "outputs": [
    {
     "data": {
      "text/html": [
       "<div>\n",
       "<style>\n",
       "    .dataframe thead tr:only-child th {\n",
       "        text-align: right;\n",
       "    }\n",
       "\n",
       "    .dataframe thead th {\n",
       "        text-align: left;\n",
       "    }\n",
       "\n",
       "    .dataframe tbody tr th {\n",
       "        vertical-align: top;\n",
       "    }\n",
       "</style>\n",
       "<table border=\"1\" class=\"dataframe\">\n",
       "  <thead>\n",
       "    <tr style=\"text-align: right;\">\n",
       "      <th></th>\n",
       "      <th>InvoiceNo</th>\n",
       "      <th>StockCode</th>\n",
       "      <th>Description</th>\n",
       "      <th>Quantity</th>\n",
       "      <th>InvoiceDate</th>\n",
       "      <th>UnitPrice</th>\n",
       "      <th>CustomerID</th>\n",
       "      <th>Country</th>\n",
       "    </tr>\n",
       "  </thead>\n",
       "  <tbody>\n",
       "    <tr>\n",
       "      <th>0</th>\n",
       "      <td>536365</td>\n",
       "      <td>85123A</td>\n",
       "      <td>WHITE HANGING HEART T-LIGHT HOLDER</td>\n",
       "      <td>6</td>\n",
       "      <td>2010-12-01 08:26:00</td>\n",
       "      <td>2.55</td>\n",
       "      <td>17850.0</td>\n",
       "      <td>United Kingdom</td>\n",
       "    </tr>\n",
       "    <tr>\n",
       "      <th>1</th>\n",
       "      <td>536365</td>\n",
       "      <td>71053</td>\n",
       "      <td>WHITE METAL LANTERN</td>\n",
       "      <td>6</td>\n",
       "      <td>2010-12-01 08:26:00</td>\n",
       "      <td>3.39</td>\n",
       "      <td>17850.0</td>\n",
       "      <td>United Kingdom</td>\n",
       "    </tr>\n",
       "    <tr>\n",
       "      <th>2</th>\n",
       "      <td>536365</td>\n",
       "      <td>84406B</td>\n",
       "      <td>CREAM CUPID HEARTS COAT HANGER</td>\n",
       "      <td>8</td>\n",
       "      <td>2010-12-01 08:26:00</td>\n",
       "      <td>2.75</td>\n",
       "      <td>17850.0</td>\n",
       "      <td>United Kingdom</td>\n",
       "    </tr>\n",
       "    <tr>\n",
       "      <th>3</th>\n",
       "      <td>536365</td>\n",
       "      <td>84029G</td>\n",
       "      <td>KNITTED UNION FLAG HOT WATER BOTTLE</td>\n",
       "      <td>6</td>\n",
       "      <td>2010-12-01 08:26:00</td>\n",
       "      <td>3.39</td>\n",
       "      <td>17850.0</td>\n",
       "      <td>United Kingdom</td>\n",
       "    </tr>\n",
       "    <tr>\n",
       "      <th>4</th>\n",
       "      <td>536365</td>\n",
       "      <td>84029E</td>\n",
       "      <td>RED WOOLLY HOTTIE WHITE HEART.</td>\n",
       "      <td>6</td>\n",
       "      <td>2010-12-01 08:26:00</td>\n",
       "      <td>3.39</td>\n",
       "      <td>17850.0</td>\n",
       "      <td>United Kingdom</td>\n",
       "    </tr>\n",
       "  </tbody>\n",
       "</table>\n",
       "</div>"
      ],
      "text/plain": [
       "  InvoiceNo StockCode                          Description  Quantity  \\\n",
       "0    536365    85123A   WHITE HANGING HEART T-LIGHT HOLDER         6   \n",
       "1    536365     71053                  WHITE METAL LANTERN         6   \n",
       "2    536365    84406B       CREAM CUPID HEARTS COAT HANGER         8   \n",
       "3    536365    84029G  KNITTED UNION FLAG HOT WATER BOTTLE         6   \n",
       "4    536365    84029E       RED WOOLLY HOTTIE WHITE HEART.         6   \n",
       "\n",
       "          InvoiceDate  UnitPrice  CustomerID         Country  \n",
       "0 2010-12-01 08:26:00       2.55     17850.0  United Kingdom  \n",
       "1 2010-12-01 08:26:00       3.39     17850.0  United Kingdom  \n",
       "2 2010-12-01 08:26:00       2.75     17850.0  United Kingdom  \n",
       "3 2010-12-01 08:26:00       3.39     17850.0  United Kingdom  \n",
       "4 2010-12-01 08:26:00       3.39     17850.0  United Kingdom  "
      ]
     },
     "execution_count": 3,
     "metadata": {},
     "output_type": "execute_result"
    }
   ],
   "source": [
    "retail = pd.read_excel('Online Retail.xlsx')\n",
    "retail.head()"
   ]
  },
  {
   "cell_type": "code",
   "execution_count": 10,
   "metadata": {},
   "outputs": [
    {
     "data": {
      "text/plain": [
       "4223"
      ]
     },
     "execution_count": 10,
     "metadata": {},
     "output_type": "execute_result"
    }
   ],
   "source": [
    "retail['Description'].nunique()"
   ]
  },
  {
   "cell_type": "code",
   "execution_count": 11,
   "metadata": {},
   "outputs": [],
   "source": [
    "retail_grouped = retail.groupby('InvoiceNo')['Description'].apply(list)"
   ]
  },
  {
   "cell_type": "code",
   "execution_count": 12,
   "metadata": {},
   "outputs": [
    {
     "data": {
      "text/plain": [
       "25900"
      ]
     },
     "execution_count": 12,
     "metadata": {},
     "output_type": "execute_result"
    }
   ],
   "source": [
    "len(retail_grouped)"
   ]
  },
  {
   "cell_type": "code",
   "execution_count": 13,
   "metadata": {},
   "outputs": [],
   "source": [
    "retail_grouped = pd.DataFrame(retail_grouped)\n",
    "retail_grouped = retail_grouped[retail_grouped['Description'].str.len() >= 10]"
   ]
  },
  {
   "cell_type": "code",
   "execution_count": 14,
   "metadata": {},
   "outputs": [
    {
     "data": {
      "text/plain": [
       "13167"
      ]
     },
     "execution_count": 14,
     "metadata": {},
     "output_type": "execute_result"
    }
   ],
   "source": [
    "len(retail_grouped)"
   ]
  },
  {
   "cell_type": "code",
   "execution_count": 15,
   "metadata": {},
   "outputs": [],
   "source": [
    "def shopping_basket_format(baskets):\n",
    "    baskets_formatted = []\n",
    "    for index, row in baskets.iterrows():\n",
    "        baskets_formatted.append(row[0])\n",
    "\n",
    "    return baskets_formatted "
   ]
  },
  {
   "cell_type": "code",
   "execution_count": 16,
   "metadata": {},
   "outputs": [],
   "source": [
    "baskets = shopping_basket_format(retail_grouped)\n",
    "baskets_length = len(baskets)"
   ]
  },
  {
   "cell_type": "markdown",
   "metadata": {},
   "source": [
    "## Training Word2vec-music recommender"
   ]
  },
  {
   "cell_type": "code",
   "execution_count": 10,
   "metadata": {},
   "outputs": [],
   "source": [
    "logging.basicConfig(format='%(asctime)s : %(levelname)s : %(message)s', level=logging.INFO)"
   ]
  },
  {
   "cell_type": "code",
   "execution_count": null,
   "metadata": {},
   "outputs": [],
   "source": [
    "np.random.seed(0)"
   ]
  },
  {
   "cell_type": "code",
   "execution_count": 118,
   "metadata": {},
   "outputs": [],
   "source": [
    "#Train with 80 % of the data (with cross validation) and test the final model with 20% of the data\n",
    "#train/test split for spotify playlist\n",
    "index = np.random.choice(range(playlist_length), playlist_length, replace=False)\n",
    "train = np.array(playlist_formatted)[index[:int(playlist_length * 0.8)]].tolist()\n",
    "test = np.array(playlist_formatted)[index[int(playlist_length * 0.8):]].tolist()"
   ]
  },
  {
   "cell_type": "code",
   "execution_count": 110,
   "metadata": {},
   "outputs": [],
   "source": [
    "#train/test split for shopping baskets\n",
    "index = np.random.choice(range(baskets_length), baskets_length, replace=False)\n",
    "train = np.array(baskets)[index[:int(baskets_length * 0.8)]].tolist()\n",
    "test = np.array(baskets)[index[int(baskets_length * 0.8):]].tolist()"
   ]
  },
  {
   "cell_type": "code",
   "execution_count": 17,
   "metadata": {},
   "outputs": [],
   "source": [
    "#Help:\n",
    "#https://github.com/manasRK/word2vec-recommender/blob/master/semsim_train.py\n",
    "#https://arxiv.org/abs/1804.04212\n",
    "#http://mccormickml.com/2017/01/11/word2vec-tutorial-part-2-negative-sampling/\n",
    "#https://stackoverflow.com/questions/38287772/cbow-v-s-skip-gram-why-invert-context-and-target-words"
   ]
  },
  {
   "cell_type": "markdown",
   "metadata": {},
   "source": [
    "### Evaluation"
   ]
  },
  {
   "cell_type": "code",
   "execution_count": 18,
   "metadata": {},
   "outputs": [],
   "source": [
    "def test_HR_and_NDGC_single_item(playlist, index, k):\n",
    "    hits = 0\n",
    "    ndgc = 0\n",
    "    tries = 0\n",
    "    fails = 0\n",
    "    query = playlist[index]\n",
    "    word = playlist[index+1]\n",
    "    try:\n",
    "        res = model.wv.most_similar(positive=query, topn=k)\n",
    "        for i in range(k):\n",
    "            if res[i][0] == word:\n",
    "                hits += 1\n",
    "                ndgc += 1/(math.log2(i+1))\n",
    "        tries += 1\n",
    "    except:\n",
    "        fails += 1\n",
    "        #print(query + \" was not found in vocab\")\n",
    "    return (hits, ndgc, tries, fails)\n",
    "\n",
    "# slow and not same task as in the paper \n",
    "def test_HR_and_NDGC_whole_test_set(test_set, k):\n",
    "    hits = 0\n",
    "    ndgc = 0\n",
    "    tries = 0\n",
    "    fails = 0\n",
    "    for playlist in test_set:\n",
    "        #ind = random.randrange(len(playlist)-1)\n",
    "        for ind in range(len(playlist)-1):\n",
    "            hi, nd, tr, fa = test_HR_and_NDGC_single_item(playlist, ind, k)\n",
    "            hits+=hi\n",
    "            ndgc+=nd\n",
    "            tries+=tr\n",
    "            fails+=fa\n",
    "    return (hits, ndgc, tries, fails)\n",
    "\n",
    "def test_HR_and_NDGC_one_task_per_playlist(test_set, k):\n",
    "    hits = 0\n",
    "    ndgc = 0\n",
    "    tries = 0\n",
    "    fails = 0\n",
    "    for playlist in test_set:\n",
    "        ind = random.randrange(len(playlist)-1)\n",
    "        hi, nd, tr, fa = test_HR_and_NDGC_single_item(playlist, ind, k)\n",
    "        hits+=hi\n",
    "        ndgc+=nd\n",
    "        tries+=tr\n",
    "        fails+=fa\n",
    "    return (hits, ndgc, tries, fails)"
   ]
  },
  {
   "cell_type": "markdown",
   "metadata": {},
   "source": [
    "### Gridsearch"
   ]
  },
  {
   "cell_type": "markdown",
   "metadata": {},
   "source": []
  },
  {
   "cell_type": "code",
   "execution_count": 119,
   "metadata": {},
   "outputs": [
    {
     "name": "stdout",
     "output_type": "stream",
     "text": [
      "Using following hyperparameters:  [3.0, 100.0, 0.1, -0.5, 50.0, 5.0, 0.025, 5.0]\n"
     ]
    },
    {
     "name": "stderr",
     "output_type": "stream",
     "text": [
      "C:\\Users\\Simo\\Anaconda3\\lib\\site-packages\\ipykernel_launcher.py:32: DeprecationWarning: Call to deprecated `iter` (Attribute will be removed in 4.0.0, use self.epochs instead).\n"
     ]
    },
    {
     "name": "stdout",
     "output_type": "stream",
     "text": [
      "Accuracy (hit_ratio) values for parameters: 0.16155904858833728\n",
      "NDCG values for parameters: 0.05875361476615765\n",
      "Using following hyperparameters:  [5.0, 100.0, 0.1, -0.5, 50.0, 5.0, 0.025, 5.0]\n",
      "Accuracy (hit_ratio) values for parameters: 0.20172645309802417\n",
      "NDCG values for parameters: 0.07137402013713369\n",
      "Using following hyperparameters:  [7.0, 100.0, 0.1, -0.5, 50.0, 5.0, 0.025, 5.0]\n",
      "Accuracy (hit_ratio) values for parameters: 0.2327522615211399\n",
      "NDCG values for parameters: 0.08301470962892005\n",
      "Using following hyperparameters:  [9.0, 100.0, 0.1, -0.5, 50.0, 5.0, 0.025, 5.0]\n",
      "Accuracy (hit_ratio) values for parameters: 0.25168073796122575\n",
      "NDCG values for parameters: 0.09064043837740184\n",
      "Using following hyperparameters:  [3.0, 100.0, 0.001, -0.5, 50.0, 5.0, 0.025, 5.0]\n",
      "Accuracy (hit_ratio) values for parameters: 0.16044213067753132\n",
      "NDCG values for parameters: 0.05795462906276033\n",
      "Using following hyperparameters:  [5.0, 100.0, 0.001, -0.5, 50.0, 5.0, 0.025, 5.0]\n",
      "Accuracy (hit_ratio) values for parameters: 0.20279019577616772\n",
      "NDCG values for parameters: 0.07127346000732336\n",
      "Using following hyperparameters:  [7.0, 100.0, 0.001, -0.5, 50.0, 5.0, 0.025, 5.0]\n",
      "Accuracy (hit_ratio) values for parameters: 0.23042496886674968\n",
      "NDCG values for parameters: 0.08183446369848785\n",
      "Using following hyperparameters:  [9.0, 100.0, 0.001, -0.5, 50.0, 5.0, 0.025, 5.0]\n",
      "Accuracy (hit_ratio) values for parameters: 0.2517698595846208\n",
      "NDCG values for parameters: 0.08907139095506329\n",
      "Using following hyperparameters:  [3.0, 100.0, 1e-05, -0.5, 50.0, 5.0, 0.025, 5.0]\n",
      "Accuracy (hit_ratio) values for parameters: 0.1725381520006074\n",
      "NDCG values for parameters: 0.061217639586614365\n",
      "Using following hyperparameters:  [5.0, 100.0, 1e-05, -0.5, 50.0, 5.0, 0.025, 5.0]\n",
      "Accuracy (hit_ratio) values for parameters: 0.21081309236023177\n",
      "NDCG values for parameters: 0.07629618113653171\n",
      "Using following hyperparameters:  [7.0, 100.0, 1e-05, -0.5, 50.0, 5.0, 0.025, 5.0]\n",
      "Accuracy (hit_ratio) values for parameters: 0.23659809880006233\n",
      "NDCG values for parameters: 0.08419306789708601\n",
      "Using following hyperparameters:  [9.0, 100.0, 1e-05, -0.5, 50.0, 5.0, 0.025, 5.0]\n",
      "Accuracy (hit_ratio) values for parameters: 0.24589011675582803\n",
      "NDCG values for parameters: 0.08897903103794565\n",
      "Using following hyperparameters:  [3.0, 100.0, 0.1, 0.75, 50.0, 5.0, 0.025, 5.0]\n",
      "Accuracy (hit_ratio) values for parameters: 0.1699257238138548\n",
      "NDCG values for parameters: 0.060071035919791634\n",
      "Using following hyperparameters:  [5.0, 100.0, 0.1, 0.75, 50.0, 5.0, 0.025, 5.0]\n",
      "Accuracy (hit_ratio) values for parameters: 0.2192860454334724\n",
      "NDCG values for parameters: 0.07974912115495844\n",
      "Using following hyperparameters:  [7.0, 100.0, 0.1, 0.75, 50.0, 5.0, 0.025, 5.0]\n",
      "Accuracy (hit_ratio) values for parameters: 0.24111487407061388\n",
      "NDCG values for parameters: 0.08695178546690785\n",
      "Using following hyperparameters:  [9.0, 100.0, 0.1, 0.75, 50.0, 5.0, 0.025, 5.0]\n",
      "Accuracy (hit_ratio) values for parameters: 0.26482975792166896\n",
      "NDCG values for parameters: 0.09613024055230807\n",
      "Using following hyperparameters:  [3.0, 100.0, 0.001, 0.75, 50.0, 5.0, 0.025, 5.0]\n",
      "Accuracy (hit_ratio) values for parameters: 0.1680259779489503\n",
      "NDCG values for parameters: 0.060252203135775\n",
      "Using following hyperparameters:  [5.0, 100.0, 0.001, 0.75, 50.0, 5.0, 0.025, 5.0]\n",
      "Accuracy (hit_ratio) values for parameters: 0.21762978986402967\n",
      "NDCG values for parameters: 0.07788214466102499\n",
      "Using following hyperparameters:  [7.0, 100.0, 0.001, 0.75, 50.0, 5.0, 0.025, 5.0]\n",
      "Accuracy (hit_ratio) values for parameters: 0.24074362165525826\n",
      "NDCG values for parameters: 0.08645957752030367\n",
      "Using following hyperparameters:  [9.0, 100.0, 0.001, 0.75, 50.0, 5.0, 0.025, 5.0]\n",
      "Accuracy (hit_ratio) values for parameters: 0.26586244712517626\n",
      "NDCG values for parameters: 0.10004049843687464\n",
      "Using following hyperparameters:  [3.0, 100.0, 1e-05, 0.75, 50.0, 5.0, 0.025, 5.0]\n",
      "Accuracy (hit_ratio) values for parameters: 0.1781900795153351\n",
      "NDCG values for parameters: 0.06384442199233598\n",
      "Using following hyperparameters:  [5.0, 100.0, 1e-05, 0.75, 50.0, 5.0, 0.025, 5.0]\n",
      "Accuracy (hit_ratio) values for parameters: 0.222265008279102\n",
      "NDCG values for parameters: 0.08136973368826392\n",
      "Using following hyperparameters:  [7.0, 100.0, 1e-05, 0.75, 50.0, 5.0, 0.025, 5.0]\n",
      "Accuracy (hit_ratio) values for parameters: 0.24576534576534576\n",
      "NDCG values for parameters: 0.09141029421609256\n",
      "Using following hyperparameters:  [9.0, 100.0, 1e-05, 0.75, 50.0, 5.0, 0.025, 5.0]\n",
      "Accuracy (hit_ratio) values for parameters: 0.2612315425699026\n",
      "NDCG values for parameters: 0.09546105201433304\n"
     ]
    }
   ],
   "source": [
    "def grid_search(*iterables):\n",
    "    #create all combinations of input values\n",
    "    return np.array(np.meshgrid(*iterables)).T.reshape(-1,len(iterables))\n",
    "\n",
    "workers = 12\n",
    "k=10 #predicted items\n",
    "\n",
    "window_options = [3, 5, 7, 9] #window size L\n",
    "it_options = [100] #epochs n\n",
    "sample_options = [0.1, 0.001, 0.00001] #sub-sampling t \n",
    "negative_sampling_dist = [-0.5, 0.75] # negative sampling distribution parameter a\n",
    "\n",
    "size_embedding_options = [50] # embedding size\n",
    "neg_options = [5] #negative samples amount\n",
    "alpha = [0.025] # learning rate\n",
    "min_count_options = [5] #words under this are ignored\n",
    "   \n",
    "hyperparameters = []\n",
    "hit_ratios = []\n",
    "NDCG = []\n",
    "best_model = None\n",
    "\n",
    "for (n_window, n_it, n_sample, n_neg_sample_dist, n_size, n_neg, n_alpha, n_min_count) in \\\n",
    "        grid_search(window_options, it_options, sample_options, negative_sampling_dist, size_embedding_options,\n",
    "                    neg_options, alpha,min_count_options):\n",
    "    hyperparameters.append([n_window, n_it, n_sample, n_neg_sample_dist, n_size, n_neg, n_alpha, n_min_count])\n",
    "    print('Using following hyperparameters: ', hyperparameters[-1])\n",
    "    model = gensim.models.Word2Vec(train, size=int(n_size), window=int(n_window),\n",
    "                 min_count=int(n_min_count), workers=workers, sg=1, iter=int(n_it),\n",
    "                 sample=n_sample, negative=int(n_neg), ns_exponent=n_neg_sample_dist, alpha=n_alpha)\n",
    "    \n",
    "    model.train(train,total_examples=len(train), epochs=model.iter)\n",
    "    hits, ndgc, tries, fails = test_HR_and_NDGC_one_task_per_playlist(test, k)\n",
    "    hit_ratio = hits/tries\n",
    "    if hit_ratios and hit_ratio > max(accuracies):\n",
    "        best_model = model\n",
    "    hit_ratios.append(hits/tries)\n",
    "    NDCG.append(ndgc/tries)\n",
    "    print('Accuracy (hit_ratio) values for parameters:', hits/tries)\n",
    "    print('NDCG values for parameters:', ndgc/tries)"
   ]
  },
  {
   "cell_type": "code",
   "execution_count": 120,
   "metadata": {},
   "outputs": [],
   "source": [
    "#print the combinations and their accuracy.\n",
    "acc_and_hyper = list(map(list, zip(hit_ratios,NDCG, hyperparameters))) # [list(i) for i in zip(accuracies, hyperparameters)]\n",
    "acc_and_hyper = list(map(lambda x: [x[0], x[1]] + x[2], acc_and_hyper))\n",
    "acc_and_hyper.sort(key=lambda x: x[0])\n",
    "acc_and_hyper = pd.DataFrame(acc_and_hyper)\n",
    "acc_and_hyper.columns = ['hit-ratio','ndcq', 'window-size', 'epochs','sub-sample',\n",
    "                         'negative-sampling-dist','embedding-size','negative-samples-size','learning-rate', 'mininum-count']"
   ]
  },
  {
   "cell_type": "code",
   "execution_count": 121,
   "metadata": {},
   "outputs": [
    {
     "data": {
      "text/html": [
       "<div>\n",
       "<style>\n",
       "    .dataframe thead tr:only-child th {\n",
       "        text-align: right;\n",
       "    }\n",
       "\n",
       "    .dataframe thead th {\n",
       "        text-align: left;\n",
       "    }\n",
       "\n",
       "    .dataframe tbody tr th {\n",
       "        vertical-align: top;\n",
       "    }\n",
       "</style>\n",
       "<table border=\"1\" class=\"dataframe\">\n",
       "  <thead>\n",
       "    <tr style=\"text-align: right;\">\n",
       "      <th></th>\n",
       "      <th>hit-ratio</th>\n",
       "      <th>ndcq</th>\n",
       "      <th>window-size</th>\n",
       "      <th>epochs</th>\n",
       "      <th>sub-sample</th>\n",
       "      <th>negative-sampling-dist</th>\n",
       "      <th>embedding-size</th>\n",
       "      <th>negative-samples-size</th>\n",
       "      <th>learning-rate</th>\n",
       "      <th>mininum-count</th>\n",
       "    </tr>\n",
       "  </thead>\n",
       "  <tbody>\n",
       "    <tr>\n",
       "      <th>0</th>\n",
       "      <td>0.160442</td>\n",
       "      <td>0.057955</td>\n",
       "      <td>3.0</td>\n",
       "      <td>100.0</td>\n",
       "      <td>0.00100</td>\n",
       "      <td>-0.50</td>\n",
       "      <td>50.0</td>\n",
       "      <td>5.0</td>\n",
       "      <td>0.025</td>\n",
       "      <td>5.0</td>\n",
       "    </tr>\n",
       "    <tr>\n",
       "      <th>1</th>\n",
       "      <td>0.161559</td>\n",
       "      <td>0.058754</td>\n",
       "      <td>3.0</td>\n",
       "      <td>100.0</td>\n",
       "      <td>0.10000</td>\n",
       "      <td>-0.50</td>\n",
       "      <td>50.0</td>\n",
       "      <td>5.0</td>\n",
       "      <td>0.025</td>\n",
       "      <td>5.0</td>\n",
       "    </tr>\n",
       "    <tr>\n",
       "      <th>2</th>\n",
       "      <td>0.168026</td>\n",
       "      <td>0.060252</td>\n",
       "      <td>3.0</td>\n",
       "      <td>100.0</td>\n",
       "      <td>0.00100</td>\n",
       "      <td>0.75</td>\n",
       "      <td>50.0</td>\n",
       "      <td>5.0</td>\n",
       "      <td>0.025</td>\n",
       "      <td>5.0</td>\n",
       "    </tr>\n",
       "    <tr>\n",
       "      <th>3</th>\n",
       "      <td>0.169926</td>\n",
       "      <td>0.060071</td>\n",
       "      <td>3.0</td>\n",
       "      <td>100.0</td>\n",
       "      <td>0.10000</td>\n",
       "      <td>0.75</td>\n",
       "      <td>50.0</td>\n",
       "      <td>5.0</td>\n",
       "      <td>0.025</td>\n",
       "      <td>5.0</td>\n",
       "    </tr>\n",
       "    <tr>\n",
       "      <th>4</th>\n",
       "      <td>0.172538</td>\n",
       "      <td>0.061218</td>\n",
       "      <td>3.0</td>\n",
       "      <td>100.0</td>\n",
       "      <td>0.00001</td>\n",
       "      <td>-0.50</td>\n",
       "      <td>50.0</td>\n",
       "      <td>5.0</td>\n",
       "      <td>0.025</td>\n",
       "      <td>5.0</td>\n",
       "    </tr>\n",
       "  </tbody>\n",
       "</table>\n",
       "</div>"
      ],
      "text/plain": [
       "   hit-ratio      ndcq  window-size  epochs  sub-sample  \\\n",
       "0   0.160442  0.057955          3.0   100.0     0.00100   \n",
       "1   0.161559  0.058754          3.0   100.0     0.10000   \n",
       "2   0.168026  0.060252          3.0   100.0     0.00100   \n",
       "3   0.169926  0.060071          3.0   100.0     0.10000   \n",
       "4   0.172538  0.061218          3.0   100.0     0.00001   \n",
       "\n",
       "   negative-sampling-dist  embedding-size  negative-samples-size  \\\n",
       "0                   -0.50            50.0                    5.0   \n",
       "1                   -0.50            50.0                    5.0   \n",
       "2                    0.75            50.0                    5.0   \n",
       "3                    0.75            50.0                    5.0   \n",
       "4                   -0.50            50.0                    5.0   \n",
       "\n",
       "   learning-rate  mininum-count  \n",
       "0          0.025            5.0  \n",
       "1          0.025            5.0  \n",
       "2          0.025            5.0  \n",
       "3          0.025            5.0  \n",
       "4          0.025            5.0  "
      ]
     },
     "metadata": {},
     "output_type": "display_data"
    },
    {
     "data": {
      "text/html": [
       "<div>\n",
       "<style>\n",
       "    .dataframe thead tr:only-child th {\n",
       "        text-align: right;\n",
       "    }\n",
       "\n",
       "    .dataframe thead th {\n",
       "        text-align: left;\n",
       "    }\n",
       "\n",
       "    .dataframe tbody tr th {\n",
       "        vertical-align: top;\n",
       "    }\n",
       "</style>\n",
       "<table border=\"1\" class=\"dataframe\">\n",
       "  <thead>\n",
       "    <tr style=\"text-align: right;\">\n",
       "      <th></th>\n",
       "      <th>hit-ratio</th>\n",
       "      <th>ndcq</th>\n",
       "      <th>window-size</th>\n",
       "      <th>epochs</th>\n",
       "      <th>sub-sample</th>\n",
       "      <th>negative-sampling-dist</th>\n",
       "      <th>embedding-size</th>\n",
       "      <th>negative-samples-size</th>\n",
       "      <th>learning-rate</th>\n",
       "      <th>mininum-count</th>\n",
       "    </tr>\n",
       "  </thead>\n",
       "  <tbody>\n",
       "    <tr>\n",
       "      <th>19</th>\n",
       "      <td>0.251681</td>\n",
       "      <td>0.090640</td>\n",
       "      <td>9.0</td>\n",
       "      <td>100.0</td>\n",
       "      <td>0.10000</td>\n",
       "      <td>-0.50</td>\n",
       "      <td>50.0</td>\n",
       "      <td>5.0</td>\n",
       "      <td>0.025</td>\n",
       "      <td>5.0</td>\n",
       "    </tr>\n",
       "    <tr>\n",
       "      <th>20</th>\n",
       "      <td>0.251770</td>\n",
       "      <td>0.089071</td>\n",
       "      <td>9.0</td>\n",
       "      <td>100.0</td>\n",
       "      <td>0.00100</td>\n",
       "      <td>-0.50</td>\n",
       "      <td>50.0</td>\n",
       "      <td>5.0</td>\n",
       "      <td>0.025</td>\n",
       "      <td>5.0</td>\n",
       "    </tr>\n",
       "    <tr>\n",
       "      <th>21</th>\n",
       "      <td>0.261232</td>\n",
       "      <td>0.095461</td>\n",
       "      <td>9.0</td>\n",
       "      <td>100.0</td>\n",
       "      <td>0.00001</td>\n",
       "      <td>0.75</td>\n",
       "      <td>50.0</td>\n",
       "      <td>5.0</td>\n",
       "      <td>0.025</td>\n",
       "      <td>5.0</td>\n",
       "    </tr>\n",
       "    <tr>\n",
       "      <th>22</th>\n",
       "      <td>0.264830</td>\n",
       "      <td>0.096130</td>\n",
       "      <td>9.0</td>\n",
       "      <td>100.0</td>\n",
       "      <td>0.10000</td>\n",
       "      <td>0.75</td>\n",
       "      <td>50.0</td>\n",
       "      <td>5.0</td>\n",
       "      <td>0.025</td>\n",
       "      <td>5.0</td>\n",
       "    </tr>\n",
       "    <tr>\n",
       "      <th>23</th>\n",
       "      <td>0.265862</td>\n",
       "      <td>0.100040</td>\n",
       "      <td>9.0</td>\n",
       "      <td>100.0</td>\n",
       "      <td>0.00100</td>\n",
       "      <td>0.75</td>\n",
       "      <td>50.0</td>\n",
       "      <td>5.0</td>\n",
       "      <td>0.025</td>\n",
       "      <td>5.0</td>\n",
       "    </tr>\n",
       "  </tbody>\n",
       "</table>\n",
       "</div>"
      ],
      "text/plain": [
       "    hit-ratio      ndcq  window-size  epochs  sub-sample  \\\n",
       "19   0.251681  0.090640          9.0   100.0     0.10000   \n",
       "20   0.251770  0.089071          9.0   100.0     0.00100   \n",
       "21   0.261232  0.095461          9.0   100.0     0.00001   \n",
       "22   0.264830  0.096130          9.0   100.0     0.10000   \n",
       "23   0.265862  0.100040          9.0   100.0     0.00100   \n",
       "\n",
       "    negative-sampling-dist  embedding-size  negative-samples-size  \\\n",
       "19                   -0.50            50.0                    5.0   \n",
       "20                   -0.50            50.0                    5.0   \n",
       "21                    0.75            50.0                    5.0   \n",
       "22                    0.75            50.0                    5.0   \n",
       "23                    0.75            50.0                    5.0   \n",
       "\n",
       "    learning-rate  mininum-count  \n",
       "19          0.025            5.0  \n",
       "20          0.025            5.0  \n",
       "21          0.025            5.0  \n",
       "22          0.025            5.0  \n",
       "23          0.025            5.0  "
      ]
     },
     "metadata": {},
     "output_type": "display_data"
    }
   ],
   "source": [
    "#spotify playlistss\n",
    "display(acc_and_hyper.head())\n",
    "display(acc_and_hyper.tail())"
   ]
  },
  {
   "cell_type": "code",
   "execution_count": 116,
   "metadata": {},
   "outputs": [
    {
     "data": {
      "text/html": [
       "<div>\n",
       "<style>\n",
       "    .dataframe thead tr:only-child th {\n",
       "        text-align: right;\n",
       "    }\n",
       "\n",
       "    .dataframe thead th {\n",
       "        text-align: left;\n",
       "    }\n",
       "\n",
       "    .dataframe tbody tr th {\n",
       "        vertical-align: top;\n",
       "    }\n",
       "</style>\n",
       "<table border=\"1\" class=\"dataframe\">\n",
       "  <thead>\n",
       "    <tr style=\"text-align: right;\">\n",
       "      <th></th>\n",
       "      <th>hit-ratio</th>\n",
       "      <th>ndcq</th>\n",
       "      <th>window-size</th>\n",
       "      <th>epochs</th>\n",
       "      <th>sub-sample</th>\n",
       "      <th>negative-sampling-dist</th>\n",
       "      <th>embedding-size</th>\n",
       "      <th>negative-samples-szie</th>\n",
       "      <th>learning-rate</th>\n",
       "      <th>mininum-count</th>\n",
       "    </tr>\n",
       "  </thead>\n",
       "  <tbody>\n",
       "    <tr>\n",
       "      <th>0</th>\n",
       "      <td>0.279534</td>\n",
       "      <td>0.124237</td>\n",
       "      <td>7.0</td>\n",
       "      <td>100.0</td>\n",
       "      <td>0.00001</td>\n",
       "      <td>-0.50</td>\n",
       "      <td>50.0</td>\n",
       "      <td>5.0</td>\n",
       "      <td>0.025</td>\n",
       "      <td>5.0</td>\n",
       "    </tr>\n",
       "    <tr>\n",
       "      <th>1</th>\n",
       "      <td>0.280118</td>\n",
       "      <td>0.115662</td>\n",
       "      <td>9.0</td>\n",
       "      <td>100.0</td>\n",
       "      <td>0.00001</td>\n",
       "      <td>-0.50</td>\n",
       "      <td>50.0</td>\n",
       "      <td>5.0</td>\n",
       "      <td>0.025</td>\n",
       "      <td>5.0</td>\n",
       "    </tr>\n",
       "    <tr>\n",
       "      <th>2</th>\n",
       "      <td>0.281761</td>\n",
       "      <td>0.116823</td>\n",
       "      <td>7.0</td>\n",
       "      <td>100.0</td>\n",
       "      <td>0.00001</td>\n",
       "      <td>0.75</td>\n",
       "      <td>50.0</td>\n",
       "      <td>5.0</td>\n",
       "      <td>0.025</td>\n",
       "      <td>5.0</td>\n",
       "    </tr>\n",
       "    <tr>\n",
       "      <th>3</th>\n",
       "      <td>0.283812</td>\n",
       "      <td>0.120994</td>\n",
       "      <td>5.0</td>\n",
       "      <td>100.0</td>\n",
       "      <td>0.00001</td>\n",
       "      <td>-0.50</td>\n",
       "      <td>50.0</td>\n",
       "      <td>5.0</td>\n",
       "      <td>0.025</td>\n",
       "      <td>5.0</td>\n",
       "    </tr>\n",
       "    <tr>\n",
       "      <th>4</th>\n",
       "      <td>0.289363</td>\n",
       "      <td>0.119947</td>\n",
       "      <td>5.0</td>\n",
       "      <td>100.0</td>\n",
       "      <td>0.00100</td>\n",
       "      <td>-0.50</td>\n",
       "      <td>50.0</td>\n",
       "      <td>5.0</td>\n",
       "      <td>0.025</td>\n",
       "      <td>5.0</td>\n",
       "    </tr>\n",
       "  </tbody>\n",
       "</table>\n",
       "</div>"
      ],
      "text/plain": [
       "   hit-ratio      ndcq  window-size  epochs  sub-sample  \\\n",
       "0   0.279534  0.124237          7.0   100.0     0.00001   \n",
       "1   0.280118  0.115662          9.0   100.0     0.00001   \n",
       "2   0.281761  0.116823          7.0   100.0     0.00001   \n",
       "3   0.283812  0.120994          5.0   100.0     0.00001   \n",
       "4   0.289363  0.119947          5.0   100.0     0.00100   \n",
       "\n",
       "   negative-sampling-dist  embedding-size  negative-samples-szie  \\\n",
       "0                   -0.50            50.0                    5.0   \n",
       "1                   -0.50            50.0                    5.0   \n",
       "2                    0.75            50.0                    5.0   \n",
       "3                   -0.50            50.0                    5.0   \n",
       "4                   -0.50            50.0                    5.0   \n",
       "\n",
       "   learning-rate  mininum-count  \n",
       "0          0.025            5.0  \n",
       "1          0.025            5.0  \n",
       "2          0.025            5.0  \n",
       "3          0.025            5.0  \n",
       "4          0.025            5.0  "
      ]
     },
     "metadata": {},
     "output_type": "display_data"
    },
    {
     "data": {
      "text/html": [
       "<div>\n",
       "<style>\n",
       "    .dataframe thead tr:only-child th {\n",
       "        text-align: right;\n",
       "    }\n",
       "\n",
       "    .dataframe thead th {\n",
       "        text-align: left;\n",
       "    }\n",
       "\n",
       "    .dataframe tbody tr th {\n",
       "        vertical-align: top;\n",
       "    }\n",
       "</style>\n",
       "<table border=\"1\" class=\"dataframe\">\n",
       "  <thead>\n",
       "    <tr style=\"text-align: right;\">\n",
       "      <th></th>\n",
       "      <th>hit-ratio</th>\n",
       "      <th>ndcq</th>\n",
       "      <th>window-size</th>\n",
       "      <th>epochs</th>\n",
       "      <th>sub-sample</th>\n",
       "      <th>negative-sampling-dist</th>\n",
       "      <th>embedding-size</th>\n",
       "      <th>negative-samples-szie</th>\n",
       "      <th>learning-rate</th>\n",
       "      <th>mininum-count</th>\n",
       "    </tr>\n",
       "  </thead>\n",
       "  <tbody>\n",
       "    <tr>\n",
       "      <th>19</th>\n",
       "      <td>0.332048</td>\n",
       "      <td>0.130985</td>\n",
       "      <td>7.0</td>\n",
       "      <td>100.0</td>\n",
       "      <td>0.001</td>\n",
       "      <td>0.75</td>\n",
       "      <td>50.0</td>\n",
       "      <td>5.0</td>\n",
       "      <td>0.025</td>\n",
       "      <td>5.0</td>\n",
       "    </tr>\n",
       "    <tr>\n",
       "      <th>20</th>\n",
       "      <td>0.332342</td>\n",
       "      <td>0.134964</td>\n",
       "      <td>5.0</td>\n",
       "      <td>100.0</td>\n",
       "      <td>0.001</td>\n",
       "      <td>0.75</td>\n",
       "      <td>50.0</td>\n",
       "      <td>5.0</td>\n",
       "      <td>0.025</td>\n",
       "      <td>5.0</td>\n",
       "    </tr>\n",
       "    <tr>\n",
       "      <th>21</th>\n",
       "      <td>0.332761</td>\n",
       "      <td>0.127913</td>\n",
       "      <td>3.0</td>\n",
       "      <td>100.0</td>\n",
       "      <td>0.001</td>\n",
       "      <td>-0.50</td>\n",
       "      <td>50.0</td>\n",
       "      <td>5.0</td>\n",
       "      <td>0.025</td>\n",
       "      <td>5.0</td>\n",
       "    </tr>\n",
       "    <tr>\n",
       "      <th>22</th>\n",
       "      <td>0.333759</td>\n",
       "      <td>0.137509</td>\n",
       "      <td>5.0</td>\n",
       "      <td>100.0</td>\n",
       "      <td>0.100</td>\n",
       "      <td>-0.50</td>\n",
       "      <td>50.0</td>\n",
       "      <td>5.0</td>\n",
       "      <td>0.025</td>\n",
       "      <td>5.0</td>\n",
       "    </tr>\n",
       "    <tr>\n",
       "      <th>23</th>\n",
       "      <td>0.351305</td>\n",
       "      <td>0.140980</td>\n",
       "      <td>3.0</td>\n",
       "      <td>100.0</td>\n",
       "      <td>0.001</td>\n",
       "      <td>0.75</td>\n",
       "      <td>50.0</td>\n",
       "      <td>5.0</td>\n",
       "      <td>0.025</td>\n",
       "      <td>5.0</td>\n",
       "    </tr>\n",
       "  </tbody>\n",
       "</table>\n",
       "</div>"
      ],
      "text/plain": [
       "    hit-ratio      ndcq  window-size  epochs  sub-sample  \\\n",
       "19   0.332048  0.130985          7.0   100.0       0.001   \n",
       "20   0.332342  0.134964          5.0   100.0       0.001   \n",
       "21   0.332761  0.127913          3.0   100.0       0.001   \n",
       "22   0.333759  0.137509          5.0   100.0       0.100   \n",
       "23   0.351305  0.140980          3.0   100.0       0.001   \n",
       "\n",
       "    negative-sampling-dist  embedding-size  negative-samples-szie  \\\n",
       "19                    0.75            50.0                    5.0   \n",
       "20                    0.75            50.0                    5.0   \n",
       "21                   -0.50            50.0                    5.0   \n",
       "22                   -0.50            50.0                    5.0   \n",
       "23                    0.75            50.0                    5.0   \n",
       "\n",
       "    learning-rate  mininum-count  \n",
       "19          0.025            5.0  \n",
       "20          0.025            5.0  \n",
       "21          0.025            5.0  \n",
       "22          0.025            5.0  \n",
       "23          0.025            5.0  "
      ]
     },
     "metadata": {},
     "output_type": "display_data"
    }
   ],
   "source": [
    "#shopping baskets\n",
    "display(acc_and_hyper.head())\n",
    "display(acc_and_hyper.tail())"
   ]
  },
  {
   "cell_type": "code",
   "execution_count": 122,
   "metadata": {},
   "outputs": [],
   "source": [
    "#spotify playlists\n",
    "acc_and_hyper.to_csv('hyperparameters/hyperparameters_spotify_playlist_k10_epochs100.csv')"
   ]
  },
  {
   "cell_type": "code",
   "execution_count": 117,
   "metadata": {},
   "outputs": [],
   "source": [
    "#shopping baskets\n",
    "acc_and_hyper.to_csv('hyperparameters/hyperparameters_shopping_basket_k10.csv')"
   ]
  },
  {
   "cell_type": "markdown",
   "metadata": {},
   "source": [
    "### Example recommendations"
   ]
  },
  {
   "cell_type": "code",
   "execution_count": 135,
   "metadata": {
    "scrolled": false
   },
   "outputs": [
    {
     "data": {
      "text/plain": [
       "[('creedence clearwater revival - proud mary', 0.8457921743392944),\n",
       " ('jimi hendrix - red house', 0.8435468077659607),\n",
       " ('golden earring - radar love', 0.834323525428772),\n",
       " ('roger waters - radio waves', 0.830359697341919),\n",
       " (\"the allman brothers band - ramblin' man\", 0.8160778880119324),\n",
       " ('stevie ray vaughan - pride and joy', 0.8105042576789856),\n",
       " ('count five - psychotic reaction', 0.8100878000259399),\n",
       " ('bob dylan - rainy day women #12 & 35', 0.807939887046814),\n",
       " ('jimi hendrix - power to love', 0.8057978749275208),\n",
       " ('big brother & the holding company - piece of my heart', 0.7994822263717651),\n",
       " ('cream - pressed rat and warthog', 0.7987171411514282),\n",
       " ('eric clapton - promises', 0.7952696681022644),\n",
       " ('the yardbirds - rack my mind', 0.7935243248939514),\n",
       " ('led zeppelin - ramble on', 0.7923119068145752),\n",
       " ('janis joplin - piece of my heart', 0.7917380332946777),\n",
       " ('jimi hendrix - remember', 0.786641001701355),\n",
       " ('aerosmith - rag doll', 0.7864587306976318),\n",
       " ('talking heads - psycho killer', 0.783840537071228),\n",
       " ('the who - pinball wizard', 0.7818718552589417),\n",
       " ('the doors - queen of the highway', 0.7775939702987671)]"
      ]
     },
     "execution_count": 135,
     "metadata": {},
     "output_type": "execute_result"
    }
   ],
   "source": [
    "#w1 = \"Queen - Bohemian Rhapsody\"\n",
    "#w1 = \"Jimi Hendrix - Purple Haze\"\n",
    "#w1 = \"The Weather Girls - It's Raining Men\"\n",
    "#w1 = \"The Smiths - This Charming Man\"\n",
    "#w1 = \"Donna Summer - Hot Stuff\"\n",
    "#w1 = \"Talking Heads - Take Me To The River\"\n",
    "#w1 = \"Simon & Garfunkel - Bridge Over Troubled Water\"\n",
    "#w1 = \"The Knack - My Sharona\"\n",
    "#w1 =\"Blondie - Call Me\"\n",
    "#w1 = \"The Police - Every Breath You Take\"\n",
    "#w1 = \"Prince - When Doves Cry\"\n",
    "#w1 = \"Wham! - Careless Whisper\"\n",
    "#w1 = \"The Bangles - Walk Like an Egyptian\"\n",
    "#w1 =\"Eminem - Without Me\"\n",
    "#w1=\"Aqua - Barbie Girl\"\n",
    "#w1=\"The Cranberries - Dreams\"\n",
    "#w1=\"Dolly Parton - Jolene\"\n",
    "#w1=\"Pink Floyd - Wish You Were Here\"\n",
    "#w1=\"Dio - Holy Diver\"\n",
    "#w1=\"Brian Eno - Taking Tiger Mountain\"\n",
    "#w1=\"David Bowie - Station To Station\"\n",
    "#w1=\"Bomfunk MC's - Freestyler\"\n",
    "#w1=\"2 Unlimited - No Limit\"\n",
    "#w1=\"Emerson, Lake & Palmer - Tarkus\"\n",
    "#w1=\"Joy Division - Disorder\"\n",
    "#w1=\"Lou Reed - Walk On The Wild Side\"\n",
    "#w1=\"Dio - Holy Diver\"\n",
    "#w1=\"Santana - Black Magic Woman\"\n",
    "#w1=\"Dio - Holy Diver\"\n",
    "\n",
    "w1 = \"Jimi Hendrix - Purple Haze\"\n",
    "model.wv.most_similar(positive=w1.lower(), topn=20)"
   ]
  },
  {
   "cell_type": "code",
   "execution_count": 136,
   "metadata": {},
   "outputs": [],
   "source": [
    "def compare_similarity(song1, song2):\n",
    "    similarity_score = model.wv.similarity(song1.lower(), song2.lower())\n",
    "    return similarity_score\n",
    "    "
   ]
  },
  {
   "cell_type": "code",
   "execution_count": 137,
   "metadata": {},
   "outputs": [
    {
     "data": {
      "text/plain": [
       "0.50251585"
      ]
     },
     "metadata": {},
     "output_type": "display_data"
    },
    {
     "data": {
      "text/plain": [
       "0.6035017"
      ]
     },
     "metadata": {},
     "output_type": "display_data"
    },
    {
     "data": {
      "text/plain": [
       "0.4190305"
      ]
     },
     "metadata": {},
     "output_type": "display_data"
    },
    {
     "data": {
      "text/plain": [
       "0.43956447"
      ]
     },
     "metadata": {},
     "output_type": "display_data"
    },
    {
     "data": {
      "text/plain": [
       "0.4514795"
      ]
     },
     "metadata": {},
     "output_type": "display_data"
    },
    {
     "data": {
      "text/plain": [
       "0.38883686"
      ]
     },
     "metadata": {},
     "output_type": "display_data"
    },
    {
     "data": {
      "text/plain": [
       "0.38455844"
      ]
     },
     "metadata": {},
     "output_type": "display_data"
    },
    {
     "data": {
      "text/plain": [
       "0.59503686"
      ]
     },
     "metadata": {},
     "output_type": "display_data"
    },
    {
     "data": {
      "text/plain": [
       "0.56917024"
      ]
     },
     "metadata": {},
     "output_type": "display_data"
    },
    {
     "data": {
      "text/plain": [
       "0.4671118"
      ]
     },
     "metadata": {},
     "output_type": "display_data"
    }
   ],
   "source": [
    "#Sanity checks\n",
    "display(compare_similarity(\"Pink Floyd - Wish You Were Here\", \"David Bowie - Warszawa\"))\n",
    "display(compare_similarity(\"Led Zeppelin - Stairway To Heaven\", \"Jimi Hendrix - Purple Haze\"))\n",
    "display(compare_similarity(\"Led Zeppelin - Stairway To Heaven\", \"Deep Purple - Child In Time\"))\n",
    "display(compare_similarity(\"Led Zeppelin - Stairway To Heaven\", \"Pink Floyd - Echoes\"))\n",
    "display(compare_similarity(\"Led Zeppelin - Stairway To Heaven\", \"Pink Floyd - Another Brick In The Wall\"))\n",
    "display(compare_similarity(\"Led Zeppelin - Stairway To Heaven\", \"David Bowie - Warszawa\"))\n",
    "display(compare_similarity(\"Led Zeppelin - Stairway To Heaven\", \"Brian Eno - Taking Tiger Mountain\"))\n",
    "display(compare_similarity(\"David Bowie - Warszawa\", \"Brian Eno - Taking Tiger Mountain\"))\n",
    "display(compare_similarity(\"Led Zeppelin - Stairway To Heaven\", \"Kanye West - Stronger\"))\n",
    "display(compare_similarity(\"Kanye West - Stronger\", \"Kanye West - All of the Lights\"))\n",
    "\n"
   ]
  },
  {
   "cell_type": "code",
   "execution_count": 127,
   "metadata": {},
   "outputs": [
    {
     "name": "stderr",
     "output_type": "stream",
     "text": [
      "2019-02-11 13:28:29,157 : INFO : storing 923483x50 projection weights into model.bin\n"
     ]
    }
   ],
   "source": [
    "#window_size=7\n",
    "#it=90 \n",
    "#sample=0.001 \n",
    "#power_alpha=-0.5\n",
    "\n",
    "#size_embedding=50\n",
    "#neg_sample=5\n",
    "#workers=10\n",
    "#min_count=2 \n",
    "#model.wv.save_word2vec_format('model.bin', binary=True)\n"
   ]
  },
  {
   "cell_type": "code",
   "execution_count": 138,
   "metadata": {},
   "outputs": [
    {
     "data": {
      "text/plain": [
       "(335975, 50)"
      ]
     },
     "execution_count": 138,
     "metadata": {},
     "output_type": "execute_result"
    }
   ],
   "source": [
    "vocab = list(model.wv.vocab)\n",
    "X = model.wv[vocab]\n",
    "X.shape"
   ]
  },
  {
   "cell_type": "markdown",
   "metadata": {},
   "source": [
    "## Visualizing embedding"
   ]
  },
  {
   "cell_type": "code",
   "execution_count": null,
   "metadata": {},
   "outputs": [],
   "source": [
    "#https://medium.com/@luckylwk/visualising-high-dimensional-datasets-using-pca-and-t-sne-in-python-8ef87e7915b"
   ]
  },
  {
   "cell_type": "code",
   "execution_count": 146,
   "metadata": {},
   "outputs": [],
   "source": [
    "index = np.random.choice(range(len(X)), 100, replace=False)\n",
    "subset_x = np.array(X)[index]\n",
    "labels = np.array(vocab)[index]"
   ]
  },
  {
   "cell_type": "code",
   "execution_count": 147,
   "metadata": {},
   "outputs": [
    {
     "name": "stderr",
     "output_type": "stream",
     "text": [
      "C:\\Users\\Simo\\Anaconda3\\lib\\site-packages\\sklearn\\neighbors\\base.py:326: RuntimeWarning: invalid value encountered in sqrt\n",
      "  result = np.sqrt(dist[sample_range, neigh_ind]), neigh_ind\n"
     ]
    }
   ],
   "source": [
    "tsne = TSNE(n_components=2)\n",
    "X_tsne = tsne.fit_transform(subset_x)"
   ]
  },
  {
   "cell_type": "code",
   "execution_count": 148,
   "metadata": {},
   "outputs": [
    {
     "data": {
      "image/png": "[encoded data removed]",
      "text/plain": [
       "<matplotlib.figure.Figure at 0x1feb15e7e10>"
      ]
     },
     "metadata": {
      "needs_background": "light"
     },
     "output_type": "display_data"
    }
   ],
   "source": [
    "def label_format(label, condition=0):\n",
    "    if condition == 1:\n",
    "        return label.split(\"-\", 1)[0]\n",
    "    elif condition == 2:\n",
    "        return label.split(\"-\", 1)[1]\n",
    "    else:\n",
    "        return label\n",
    "\n",
    "\n",
    "plt.figure(figsize=(16, 16)) \n",
    "\n",
    "for i in range(len(X_tsne)):\n",
    "    plt.scatter(X_tsne[i,0],X_tsne[i,1])\n",
    "    plt.annotate(label_format(labels[i], 0),\n",
    "                 xy=(X_tsne[i,0],X_tsne[i,1]),\n",
    "                 xytext=(5, 2),\n",
    "                 textcoords='offset points',\n",
    "                 ha='right',\n",
    "                 va='bottom')\n",
    "plt.show()"
   ]
  },
  {
   "cell_type": "code",
   "execution_count": 149,
   "metadata": {},
   "outputs": [
    {
     "data": {
      "text/plain": [
       "(0.5202300032368005, 0.15291891283641226, 105042, 45707)"
      ]
     },
     "metadata": {},
     "output_type": "display_data"
    }
   ],
   "source": [
    "#nep on train \n",
    "k = 100\n",
    "hits, ndgc, tries, fails = test_HR_and_NDGC_one_task_per_playlist(train, k)\n",
    "display((hits/tries, ndgc/tries, tries, fails))"
   ]
  },
  {
   "cell_type": "code",
   "execution_count": 150,
   "metadata": {},
   "outputs": [
    {
     "data": {
      "text/plain": [
       "(0.4754919219183977, 0.14022477352177087, 25563, 12125)"
      ]
     },
     "metadata": {},
     "output_type": "display_data"
    }
   ],
   "source": [
    "#nep on test\n",
    "k = 100\n",
    "hits, ndgc, tries, fails = test_HR_and_NDGC_one_task_per_playlist(test, k)\n",
    "display((hits/tries, ndgc/tries, tries, fails))"
   ]
  },
  {
   "cell_type": "markdown",
   "metadata": {},
   "source": [
    "## Appendix"
   ]
  },
  {
   "cell_type": "code",
   "execution_count": 113,
   "metadata": {},
   "outputs": [],
   "source": [
    "#sg ({0, 1}, optional) – Training algorithm: 1 for skip-gram\n",
    "#min_count (int, optional) – Ignores all words with total frequency lower than this.\n",
    "#window (int, optional) – Maximum distance between the current and predicted word within a sentence.\n",
    "#sample (float, optional) – The threshold for configuring which higher-frequency words are randomly downsampled, useful range is (0, 1e-5).\n",
    "\n",
    "#hs ({0, 1}, optional) – If 1, hierarchical softmax will be used for model training.\n",
    "#If 0, and negative is non-zero, negative sampling will be used.\n",
    "\n",
    "#negative (int, optional) – If > 0, negative sampling will be used, the int for negative specifies how many \n",
    "#“noise words” should be drawn (usually between 5-20). If set to 0, no negative sampling is used.\n",
    "\n",
    "#model = gensim.models.Word2Vec(documents, min_count=1, workers=16, sg=1, size = 300, hs=1, window = 5)\n",
    "#model.train(documents,total_examples=len(documents),epochs=1)\n",
    "\n",
    "#window_size window-size\n",
    "#it number of epochs \n",
    "#sample sub-sampling parameter\n",
    "#power-alpha negative sampling distribution parameter\n",
    "\n",
    "#window_size=3\n",
    "#it=20 #increasing this leads to returning words with wrong similarity\n",
    "#sample=0.0001 \n",
    "#power_alpha=-0.5\n",
    "\n",
    "#other\n",
    "#size_embedding=50\n",
    "#neg_sample=5\n",
    "#workers=10\n",
    "#min_count=5 #cold start?\n",
    "\n",
    "#window_size=7\n",
    "#it=20 #increasing this leads to returning words with wrong similarity\n",
    "#sample=0.001 \n",
    "#power_alpha=0.025\n",
    "\n",
    "#size_embedding=50\n",
    "#neg_sample=5\n",
    "#workers=10\n",
    "#min_count=2 #cold start?\n",
    "\n",
    "\n",
    "#model = gensim.models.Word2Vec(test, size=size_embedding, window=window_size,\n",
    "#                 min_count=min_count, workers=workers, sg=1, iter=it,\n",
    "#                 sample=sample, negative=neg_sample, alpha=power_alpha)\n",
    "\n",
    "#model.train(test,total_examples=len(test), epochs=model.iter)"
   ]
  }
 ],
 "metadata": {
  "kernelspec": {
   "display_name": "Python 3",
   "language": "python",
   "name": "python3"
  },
  "language_info": {
   "codemirror_mode": {
    "name": "ipython",
    "version": 3
   },
   "file_extension": ".py",
   "mimetype": "text/x-python",
   "name": "python",
   "nbconvert_exporter": "python",
   "pygments_lexer": "ipython3",
   "version": "3.6.6"
  }
 },
 "nbformat": 4,
 "nbformat_minor": 2
}
